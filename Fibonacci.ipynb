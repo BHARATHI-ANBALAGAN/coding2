{
  "nbformat": 4,
  "nbformat_minor": 0,
  "metadata": {
    "colab": {
      "name": "Fibonacci.ipynb",
      "provenance": []
    },
    "kernelspec": {
      "name": "python3",
      "display_name": "Python 3"
    }
  },
  "cells": [
    {
      "cell_type": "code",
      "metadata": {
        "id": "9-XxdcLTe8lj",
        "colab_type": "code",
        "colab": {}
      },
      "source": [
        "def fibonacci(n): \n",
        "    a = 0\n",
        "    b = 1\n",
        "    if n < 0: \n",
        "        print(\"Incorrect input\") \n",
        "    elif n == 0: \n",
        "        print(a) \n",
        "    elif n == 1: \n",
        "        print(b)\n",
        "    else: \n",
        "        for i in range(2,n): \n",
        "            c = a + b \n",
        "            a = b \n",
        "            b = c \n",
        "            print(c)"
      ],
      "execution_count": 15,
      "outputs": []
    },
    {
      "cell_type": "code",
      "metadata": {
        "id": "-E4bN10agSL6",
        "colab_type": "code",
        "colab": {
          "base_uri": "https://localhost:8080/",
          "height": 191
        },
        "outputId": "2b14fb51-fdda-48ff-8565-8e4d22f80b47"
      },
      "source": [
        "n = int(input(\"Enter the number of terms\"))\n",
        "print(\"Fibonaaci series\")\n",
        "fibonacci(n)"
      ],
      "execution_count": 16,
      "outputs": [
        {
          "output_type": "stream",
          "text": [
            "Enter the number of terms10\n",
            "Fibonaaci series\n",
            "1\n",
            "2\n",
            "3\n",
            "5\n",
            "8\n",
            "13\n",
            "21\n",
            "34\n"
          ],
          "name": "stdout"
        }
      ]
    },
    {
      "cell_type": "code",
      "metadata": {
        "id": "GgomW3ydgmZs",
        "colab_type": "code",
        "colab": {}
      },
      "source": [
        ""
      ],
      "execution_count": null,
      "outputs": []
    }
  ]
}