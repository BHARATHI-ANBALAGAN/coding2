{
  "nbformat": 4,
  "nbformat_minor": 0,
  "metadata": {
    "colab": {
      "name": "Coding_lists.ipynb",
      "provenance": []
    },
    "kernelspec": {
      "name": "python3",
      "display_name": "Python 3"
    }
  },
  "cells": [
    {
      "cell_type": "code",
      "metadata": {
        "id": "BqgSf6-6aGbi",
        "colab_type": "code",
        "colab": {
          "base_uri": "https://localhost:8080/",
          "height": 52
        },
        "outputId": "f85dcff0-281c-4de6-8f17-c54019ff6bb2"
      },
      "source": [
        "input_list = []\n",
        "start = int(input(\"Enter the start range value\"))\n",
        "end = int(input(\"Enter the end range value\"))\n"
      ],
      "execution_count": 13,
      "outputs": [
        {
          "output_type": "stream",
          "text": [
            "Enter the start range value-5\n",
            "Enter the end range value5\n"
          ],
          "name": "stdout"
        }
      ]
    },
    {
      "cell_type": "code",
      "metadata": {
        "id": "CpCn_3meaiuk",
        "colab_type": "code",
        "colab": {
          "base_uri": "https://localhost:8080/",
          "height": 34
        },
        "outputId": "522b1df6-07c3-4d3a-993c-5aa1bfb4196b"
      },
      "source": [
        "for i in range(start,end+1):\n",
        "  input_list.append(i)\n",
        "print(\"Input list is \",input_list)"
      ],
      "execution_count": 14,
      "outputs": [
        {
          "output_type": "stream",
          "text": [
            "Input list is  [-5, -4, -3, -2, -1, 0, 1, 2, 3, 4, 5]\n"
          ],
          "name": "stdout"
        }
      ]
    },
    {
      "cell_type": "code",
      "metadata": {
        "id": "d-V-Ht-2bPse",
        "colab_type": "code",
        "colab": {
          "base_uri": "https://localhost:8080/",
          "height": 34
        },
        "outputId": "ca74749f-f45b-44e2-d681-fd1b62cd3e48"
      },
      "source": [
        "output_list = []\n",
        "for i in input_list:\n",
        "  if i>=0:\n",
        "    output_list.append(i)\n",
        "print(\"Output list is \",output_list)\n"
      ],
      "execution_count": 15,
      "outputs": [
        {
          "output_type": "stream",
          "text": [
            "Output list is  [0, 1, 2, 3, 4, 5]\n"
          ],
          "name": "stdout"
        }
      ]
    },
    {
      "cell_type": "code",
      "metadata": {
        "id": "QJPVsmq0c5iG",
        "colab_type": "code",
        "colab": {}
      },
      "source": [
        ""
      ],
      "execution_count": null,
      "outputs": []
    }
  ]
}